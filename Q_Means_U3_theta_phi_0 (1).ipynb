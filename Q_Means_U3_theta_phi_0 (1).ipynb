{
 "cells": [
  {
   "cell_type": "code",
   "execution_count": null,
   "id": "02914eca",
   "metadata": {},
   "outputs": [],
   "source": [
    "# # Comparative study of data preparation methods in quantum \n",
    "#                       clustering algorithms\n",
    "#                                 by\n",
    "#\n",
    "# Alekha Bhatt, Chetan Dandin and Sri Vallabha Vaidya\n",
    "#\n",
    "# This code is used to evaluate one of the data preparation methods using \n",
    "# U3(theta,0,0) gate and the impact of the same on Quantum clustering algorithms \n",
    "#\n",
    "# References\n",
    "# https://github.com/CQCL/qiskit-tutorial/blob/master/community/awards/teach_me_qiskit_2018/quantum_machine_learning/1_K_Means/Quantum%20K-Means%20Algorithm.ipynb\n",
    "# https://github.com/smit14/Quantum-K-means-algorithm/blob/master/k_means_quantum.ipynb\n",
    "#\n",
    "##########################################################################"
   ]
  },
  {
   "cell_type": "code",
   "execution_count": 49,
   "id": "e0b70d37",
   "metadata": {},
   "outputs": [],
   "source": [
    "# Import necessary libraries\n",
    "import numpy as np\n",
    "import matplotlib.pyplot as plt\n",
    "import math\n",
    "import pandas as pd\n",
    "import time\n",
    "\n",
    "# Import specific modules from scikit-learn\n",
    "from sklearn.datasets import load_iris, load_wine, load_breast_cancer\n",
    "from sklearn.decomposition import PCA\n",
    "from sklearn.preprocessing import MinMaxScaler\n",
    "from sklearn.metrics import davies_bouldin_score, silhouette_score\n",
    "\n",
    "# The code imports commonly used libraries and modules for data analysis, visualization, and machine learning tasks.\n",
    "# - numpy (as np) is used for numerical operations.\n",
    "# - matplotlib.pyplot (as plt) is used for data visualization.\n",
    "# - math provides mathematical functions and constants.\n",
    "# - pandas (as pd) is used for data manipulation and analysis.\n",
    "# - time is used to measure execution time of certain parts of the code.\n",
    "\n",
    "# The code then imports specific modules from scikit-learn (sklearn), a popular machine learning library in Python.\n",
    "# - load_iris, load_wine, and load_breast_cancer are functions to load sample datasets from scikit-learn.\n",
    "# - PCA is used for principal component analysis, a dimensionality reduction technique.\n",
    "# - MinMaxScaler is used for scaling features to range 0 to 1.\n",
    "# - davies_bouldin_score and silhouette_score are used for cluster evaluation metrics.\n"
   ]
  },
  {
   "cell_type": "code",
   "execution_count": 2,
   "id": "26337cd1",
   "metadata": {},
   "outputs": [],
   "source": [
    "# Import necessary libraries from Qiskit\n",
    "from math import pi\n",
    "from qiskit import Aer, IBMQ, execute\n",
    "from qiskit import QuantumCircuit, ClassicalRegister, QuantumRegister\n",
    "\n",
    "# The 'qiskit' library is imported, which is a popular quantum computing library in Python.\n",
    "# - 'Aer' provides access to the simulation backends for quantum circuits.\n",
    "# - 'IBMQ' is used for connecting to the IBM Quantum Experience and accessing real quantum devices.\n",
    "# - 'execute' is used to run quantum circuits on a chosen backend.\n",
    "# - 'QuantumCircuit' is used to create quantum circuits.\n",
    "# - 'ClassicalRegister' and 'QuantumRegister' are used to create classical and quantum registers, respectively.\n",
    "\n",
    "# 'Aer.get_backend' is used to select the 'qasm_simulator' backend for simulation.\n",
    "# The 'qasm_simulator' backend is a local simulator that allows you to simulate quantum circuits without using a real quantum device.\n",
    "\n",
    "backend = Aer.get_backend('qasm_simulator')"
   ]
  },
  {
   "cell_type": "code",
   "execution_count": 3,
   "id": "aa02af07",
   "metadata": {},
   "outputs": [],
   "source": [
    "# Define a function called 'get_theta' that takes a tuple 'd' as input\n",
    "def get_theta(d):\n",
    "    # Unpack the tuple 'd' into two variables 'x' and 'y'\n",
    "    x = d[0]\n",
    "    y = d[1]\n",
    "    \n",
    "    # Calculate the value of 'theta' using the formula (x + 1) * (pi/2)\n",
    "    theta = (x + 1) * (pi / 2)\n",
    "    \n",
    "    # Calculate the value of 'phi' using the formula (y + 1) * (pi/2)\n",
    "    phi = (y + 1) * (pi / 2)\n",
    "    \n",
    "    # Return both 'theta' and 'phi' as a tuple\n",
    "    return theta, phi"
   ]
  },
  {
   "cell_type": "code",
   "execution_count": 62,
   "id": "36b3d356",
   "metadata": {},
   "outputs": [],
   "source": [
    "# Define the function 'get_Distance' with four input parameters: x, y, count1, and count2\n",
    "def get_Distance(x, y, count1, count2):\n",
    "    # Call the 'get_theta' function to calculate theta and phi values for x and y\n",
    "    theta_1, phi_1 = get_theta(x)\n",
    "    theta_2, phi_2 = get_theta(y)\n",
    "    \n",
    "    # Create a Quantum Register called \"qr\" with 3 qubits\n",
    "    qr = QuantumRegister(3, name=\"qr\")\n",
    "    # Create a Classical Register called \"cr\" with 3 bits\n",
    "    cr = ClassicalRegister(3, name=\"cr\")\n",
    "\n",
    "    # Creating a Quantum Circuit called \"qc\" involving the Quantum Register \"qr\"\n",
    "    # and the Classical Register \"cr\"\n",
    "    qc = QuantumCircuit(qr, cr, name=\"k_means\")\n",
    "    \n",
    "    # Apply the Hadamard gate to the first qubit (qr[0])\n",
    "    qc.h(qr[0])\n",
    "    \n",
    "    # Apply the u3 gate with theta and phi values to the second and third qubits (qr[1] and qr[2])\n",
    "    qc.u(theta_1, phi_1, 0, qr[1])\n",
    "    qc.u(theta_2, phi_2, 0, qr[2])\n",
    "    \n",
    "    # Apply the CSWAP gate on the first, second, and third qubits (qr[0], qr[1], qr[2])\n",
    "    qc.cswap(qr[0], qr[1], qr[2])\n",
    "    \n",
    "    # Apply the Hadamard gate again to the first qubit (qr[0])\n",
    "    qc.h(qr[0])\n",
    "    \n",
    "    # Measure the first qubit (qr[0]) and store the measurement result in the first bit of the Classical Register (cr[0])\n",
    "    qc.measure(qr[0], cr[0])\n",
    "    \n",
    "    # Print the quantum circuit if both count1 and count2 are 0\n",
    "    if count1 == 0 and count2 == 0:\n",
    "        print(qc)\n",
    "        \n",
    "    \n",
    "    # Execute the quantum circuit on the specified backend (Aer's simulator) with 2048 shots\n",
    "    job = execute(qc, backend=backend, shots=2048)\n",
    "    result = job.result()\n",
    "    data = result.get_counts(qc)\n",
    "    \n",
    "    # If there is only one result in the data, return a distance of 0.0\n",
    "    if len(data) == 1:\n",
    "        return 0.0\n",
    "    else:\n",
    "        # Otherwise, return the probability of getting the '001' outcome as the distance\n",
    "        return data['001'] / 2048.0"
   ]
  },
  {
   "cell_type": "code",
   "execution_count": 5,
   "id": "23f5b0a2",
   "metadata": {},
   "outputs": [],
   "source": [
    "# Define the function 'get_data' with two input parameters: k and model\n",
    "def get_data(k, model):\n",
    "    # Check the value of the 'model' parameter to determine which dataset to use\n",
    "    # If 'model' is \"iris\", load the iris dataset\n",
    "    if model == \"iris\":\n",
    "        data1 = load_iris()\n",
    "    # If 'model' is \"wine\", load the wine dataset\n",
    "    elif model == \"wine\":\n",
    "        data1 = load_wine()\n",
    "    # If 'model' is neither \"iris\" nor \"wine\", load the breast cancer dataset\n",
    "    else:\n",
    "        data1 = load_breast_cancer()\n",
    "    \n",
    "    # Create a DataFrame 'df' from the loaded dataset, using the data and feature names\n",
    "    df = pd.DataFrame(data1['data'], columns=data1['feature_names'])\n",
    "    \n",
    "    # Perform Principal Component Analysis (PCA) with 2 components\n",
    "    pca_1 = PCA(n_components=2)\n",
    "    pca_1.fit(df)\n",
    "    \n",
    "    # Transform the data to 2-dimensional points using PCA\n",
    "    points = pca_1.transform(df)\n",
    "    \n",
    "    # Return the transformed points as the result\n",
    "    return points"
   ]
  },
  {
   "cell_type": "code",
   "execution_count": 58,
   "id": "3d2cbf98",
   "metadata": {},
   "outputs": [],
   "source": [
    "# Define the function 'draw_plot' with three input parameters: points, centers, and label\n",
    "def draw_plot(points, centers, label=True):\n",
    "    # Check the value of the 'label' parameter\n",
    "    # If 'label' is False, plot the points without centers\n",
    "    \n",
    "    if label == False:\n",
    "        plt.scatter(points[:, 0], points[:, 1], s=3)\n",
    "        \n",
    "    # If 'label' is True, plot the points with different colors according to their centers\n",
    "    else:\n",
    "        for cluster_id in np.unique(centers):\n",
    "            cluster_data = points[centers == cluster_id]\n",
    "            #assigning labels to each cluster to display legends in the scatter plot\n",
    "            plt.scatter(cluster_data[:, 0], cluster_data[:, 1], label=f'Cluster {int(cluster_id) + 1}', s=3)\n",
    "        plt.legend(loc='lower right', fontsize=6) #display the legends on the lower right side of the scatter plot\n",
    "\n",
    "        \n",
    "    # Set the limits of the x-axis and y-axis for the plot\n",
    "    plt.xlim(-0.15, 1.2)\n",
    "    plt.ylim(-0.15, 1.2)\n",
    "    \n",
    "    # Show the plot\n",
    "    plt.show()"
   ]
  },
  {
   "cell_type": "code",
   "execution_count": 7,
   "id": "25e508d4",
   "metadata": {},
   "outputs": [],
   "source": [
    "# Define the function 'plot_centroids' with one input parameter: centers\n",
    "def plot_centroids(centers):\n",
    "    # Scatter plot the centroids using the x-coordinates from the first column (centers[:,0]) \n",
    "    # and y-coordinates from the second column (centers[:,1]) of the 'centers' array.\n",
    "    # The 's=3' parameter sets the size of the plotted points to 3.\n",
    "    plt.scatter(centers[:, 0], centers[:, 1], s=3)\n",
    "    \n",
    "    # Set the limits of the x-axis and y-axis for the plot to ensure all centroids are visible.\n",
    "    plt.xlim(-0.15, 1.2)\n",
    "    plt.ylim(-0.15, 1.2)\n",
    "    \n",
    "    # Show the plot with the centroids.\n",
    "    plt.show()"
   ]
  },
  {
   "cell_type": "code",
   "execution_count": 8,
   "id": "c93c9e0d",
   "metadata": {},
   "outputs": [],
   "source": [
    "# Defining the function 'initialize_centers' with two input parameters: points and k\n",
    "def initialize_centers(points, k):\n",
    "    # Set a random seed (seed=45) for reproducibility of random number generation\n",
    "    np.random.seed(45)\n",
    "    \n",
    "    # Use NumPy's random.randint function to randomly select 'k' points (row indices) from the 'points' array.\n",
    "    # The random integers will be in the range [0, points.shape[0]), where points.shape[0] gives the number of rows in the 'points' array.\n",
    "    # This means the indices will be in the range [0, points.shape[0]-1].\n",
    "    # The function returns 'k' randomly chosen rows from the 'points' array as the initial centers.\n",
    "    return points[np.random.randint(points.shape[0], size=k), :]"
   ]
  },
  {
   "cell_type": "code",
   "execution_count": 9,
   "id": "242fdd96",
   "metadata": {},
   "outputs": [],
   "source": [
    "# Define the function 'find_nearest_neighbour' with three input parameters: points, centroids, and count1\n",
    "def find_nearest_neighbour(points, centroids, count1):\n",
    "    # Get the number of data points (n) and the number of centroids (k)\n",
    "    n = len(points)\n",
    "    k = centroids.shape[0]\n",
    "    \n",
    "    # Create an array 'centers' of zeros with the same length as 'points'\n",
    "    centers = np.zeros(n)\n",
    "    \n",
    "    # Initialize the variable 'count2', used in get_Distance() function to print the Quantum circuit\n",
    "    count2 = 0\n",
    "    \n",
    "    # Loop through each data point in 'points'\n",
    "    for i in range(n):\n",
    "        # Initialize 'min_dis' to a large value (10000) to find the minimum distance\n",
    "        min_dis = 10000\n",
    "        # Initialize 'index' to 0 to track the index of the nearest centroid\n",
    "        index = 0\n",
    "        \n",
    "        # Loop through each centroid in 'centroids'\n",
    "        for j in range(k):\n",
    "            # Calculate the distance between the current data point (points[i,:]) and the current centroid (centroids[j,:])\n",
    "            temp_dist = get_Distance(points[i, :], centroids[j, :], count1, count2)\n",
    "            \n",
    "            count2 = count2 + 1\n",
    "            \n",
    "            # Check if the calculated distance is smaller than the current minimum distance\n",
    "            if temp_dist < min_dis:\n",
    "                # If true, update the minimum distance and the index of the nearest centroid\n",
    "                min_dis = temp_dist\n",
    "                index = j\n",
    "        \n",
    "        # Assign the index of the nearest centroid to the 'centers' array for the current data point\n",
    "        centers[i] = index\n",
    "    \n",
    "    # Return the 'centers' array, which contains the index of the nearest centroid for each data point\n",
    "    return centers"
   ]
  },
  {
   "cell_type": "code",
   "execution_count": 10,
   "id": "13c32e31",
   "metadata": {},
   "outputs": [],
   "source": [
    "# Define the function 'find_centroids' with two input parameters: points and centers\n",
    "def find_centroids(points, centers):\n",
    "    # Get the number of data points (n) and the number of clusters (k)\n",
    "    n = len(points)\n",
    "    k = int(np.max(centers)) + 1\n",
    "    \n",
    "    # Create an array 'centroids' of zeros with dimensions (k, 2)\n",
    "    centroids = np.zeros([k, 2])\n",
    "    \n",
    "    # Loop through each cluster (indexed from 0 to k-1)\n",
    "    for i in range(k):\n",
    "        # Calculate the mean (average) of the data points belonging to the current cluster\n",
    "        # 'points[centers==i]' selects the data points where 'centers' has the value 'i' (current cluster index)\n",
    "        # np.average() calculates the mean of the selected data points along each dimension (x and y)\n",
    "        centroids[i, :] = np.average(points[centers == i], axis=0)\n",
    "    \n",
    "    # Return the calculated centroids\n",
    "    return centroids"
   ]
  },
  {
   "cell_type": "code",
   "execution_count": 11,
   "id": "3c590573",
   "metadata": {},
   "outputs": [],
   "source": [
    "# Define the function 'preprocess' with one input parameter: points\n",
    "def preprocess(points):\n",
    "    # Create an instance of MinMaxScaler, which will scale the data to the range [0, 1]\n",
    "    scaler = MinMaxScaler()\n",
    "    \n",
    "    # Use the 'fit_transform' method of MinMaxScaler to normalize the data points\n",
    "    # The 'fit_transform' method computes the minimum and maximum values of each feature in 'points'\n",
    "    # and scales the data points accordingly to the range [0, 1].\n",
    "    normalized_data = scaler.fit_transform(points)\n",
    "    \n",
    "    # Return the normalized data points\n",
    "    return normalized_data"
   ]
  },
  {
   "cell_type": "code",
   "execution_count": 64,
   "id": "a0144917",
   "metadata": {
    "scrolled": false
   },
   "outputs": [
    {
     "data": {
      "image/png": "[encoded data removed]",
      "text/plain": [
       "<Figure size 640x480 with 1 Axes>"
      ]
     },
     "metadata": {},
     "output_type": "display_data"
    },
    {
     "name": "stdout",
     "output_type": "stream",
     "text": [
      "              ┌───┐           ┌───┐┌─┐\n",
      "qr_0: ────────┤ H ├─────────■─┤ H ├┤M├\n",
      "      ┌───────┴───┴───────┐ │ └───┘└╥┘\n",
      "qr_1: ┤ U(1.6916,2.514,0) ├─X───────╫─\n",
      "      └─┬───────────────┬─┘ │       ║ \n",
      "qr_2: ──┤ U(3.0152,π,0) ├───X───────╫─\n",
      "        └───────────────┘           ║ \n",
      "cr: 3/══════════════════════════════╩═\n",
      "                                    0 \n"
     ]
    },
    {
     "data": {
      "image/png": "[encoded data removed]",
      "text/plain": [
       "<Figure size 640x480 with 1 Axes>"
      ]
     },
     "metadata": {},
     "output_type": "display_data"
    },
    {
     "name": "stdout",
     "output_type": "stream",
     "text": [
      "Davies-Bouldin Index: 0.7540376075197744\n",
      "Silhouette Score: 0.4574256596133811\n",
      "Execution time:  331.1269955635071\n"
     ]
    }
   ],
   "source": [
    "# Set the number of centers (k), dataset model (\"iris\" in this case), and count1 (used to print Quantum circuit in get_Distance())\n",
    "k = 3\n",
    "model = \"iris\"\n",
    "count1 = 0\n",
    "\n",
    "# Get the data points using the specified model (\"iris\")\n",
    "points = get_data(k, model)\n",
    "\n",
    "# Preprocess (normalize) the data points using Min-Max scaling\n",
    "points = preprocess(points)\n",
    "\n",
    "# Initialize the centroids for the k-means algorithm\n",
    "centroids = initialize_centers(points, k)\n",
    "\n",
    "# Plot the initial data points without centers (label=False)\n",
    "plt.figure()\n",
    "draw_plot(points, centroids, label=False)\n",
    "\n",
    "# Run the k-means algorithm for a fixed number of iterations (50 in this case)\n",
    "start_time = time.time()\n",
    "for i in range(100):\n",
    "    # Find the nearest centers for each data point using the current centroids\n",
    "    centers = find_nearest_neighbour(points, centroids, count1)\n",
    "    \n",
    "    # Plot the data points with centers after each iteration\n",
    "    plt.figure()\n",
    "    draw_plot(points, centers)\n",
    "    \n",
    "    # Update the centroids based on the mean of the data points belonging to each cluster\n",
    "    centroids = find_centroids(points, centers)\n",
    "    \n",
    "    # Increment the count1 variable\n",
    "    count1 = count1 + 1\n",
    "\n",
    "end_time = time.time()\n",
    "\n",
    "# Calculate the Davies-Bouldin Index to evaluate the clustering quality\n",
    "db_index = davies_bouldin_score(points, centers)\n",
    "print('Davies-Bouldin Index:', db_index)\n",
    "\n",
    "# Calculate the Silhouette Score to evaluate the clustering quality\n",
    "silhoutte_score = silhouette_score(points, centers)\n",
    "print('Silhouette Score:', silhoutte_score)\n",
    "\n",
    "# Calculate the execution time of the k-means algorithm\n",
    "exec_time = end_time - start_time\n",
    "print(\"Execution time: \", exec_time)\n"
   ]
  },
  {
   "cell_type": "code",
   "execution_count": 65,
   "id": "c92d9566",
   "metadata": {
    "scrolled": true
   },
   "outputs": [
    {
     "data": {
      "image/png": "[encoded data removed]",
      "text/plain": [
       "<Figure size 640x480 with 1 Axes>"
      ]
     },
     "metadata": {},
     "output_type": "display_data"
    },
    {
     "name": "stdout",
     "output_type": "stream",
     "text": [
      "              ┌───┐            ┌───┐┌─┐\n",
      "qr_0: ────────┤ H ├──────────■─┤ H ├┤M├\n",
      "      ┌───────┴───┴────────┐ │ └───┘└╥┘\n",
      "qr_1: ┤ U(2.4531,2.4626,0) ├─X───────╫─\n",
      "      ├────────────────────┤ │       ║ \n",
      "qr_2: ┤ U(1.9989,2.0729,0) ├─X───────╫─\n",
      "      └────────────────────┘         ║ \n",
      "cr: 3/═══════════════════════════════╩═\n",
      "                                     0 \n"
     ]
    },
    {
     "data": {
      "image/png": "[encoded data removed]",
      "text/plain": [
       "<Figure size 640x480 with 1 Axes>"
      ]
     },
     "metadata": {},
     "output_type": "display_data"
    },
    {
     "name": "stdout",
     "output_type": "stream",
     "text": [
      "Davies-Bouldin Index: 0.8983203774969067\n",
      "Silhoutte Score: 0.42835613375466425\n",
      "Execution time:  430.5949535369873\n"
     ]
    }
   ],
   "source": [
    "# Set the number of centers (k), dataset model (\"wine\" in this case), and count1 (used to print Quantum circuit in get_Distance())\n",
    "k = 3\n",
    "model = \"wine\"\n",
    "count1 = 0\n",
    "\n",
    "# Get the data points using the specified model (\"wine\")\n",
    "points = get_data(k, model)\n",
    "\n",
    "# Preprocess (normalize) the data points using Min-Max scaling\n",
    "points = preprocess(points)\n",
    "\n",
    "# Initialize the centroids for the k-means algorithm\n",
    "centroids = initialize_centers(points, k)\n",
    "\n",
    "# Plot the initial data points without centers (label=False)\n",
    "plt.figure()\n",
    "draw_plot(points, centroids, label=False)\n",
    "\n",
    "# Run the k-means algorithm for 2 iterations\n",
    "start_time = time.time()\n",
    "for i in range(100):\n",
    "    # Find the nearest centers for each data point using the current centroids\n",
    "    centers = find_nearest_neighbour(points, centroids, count1)\n",
    "    \n",
    "    # Plot the data points with centers after each iteration\n",
    "    #plt.figure()\n",
    "    #draw_plot(points, centers)\n",
    "    \n",
    "    # Update the centroids based on the mean of the data points belonging to each cluster\n",
    "    centroids = find_centroids(points, centers)\n",
    "    \n",
    "    # Increment the count1 variable\n",
    "    count1 = count1 + 1\n",
    "\n",
    "end_time = time.time()\n",
    "draw_plot(points, centers)\n",
    "\n",
    "# Calculate the Davies-Bouldin Index to evaluate the clustering quality\n",
    "db_index = davies_bouldin_score(points, centers)\n",
    "print('Davies-Bouldin Index:', db_index)\n",
    "\n",
    "# Calculate the Silhouette Score to evaluate the clustering quality\n",
    "silhouette_score = silhouette_score(points, centers)\n",
    "print('Silhouette Score:', silhouette_score)\n",
    "\n",
    "# Calculate the execution time of the k-means algorithm in minutes\n",
    "exec_time = end_time - start_time\n",
    "print(\"Execution time: \", exec_time)"
   ]
  },
  {
   "cell_type": "code",
   "execution_count": 66,
   "id": "783fa557",
   "metadata": {
    "scrolled": true
   },
   "outputs": [
    {
     "data": {
      "image/png": "[encoded data removed]",
      "text/plain": [
       "<Figure size 640x480 with 1 Axes>"
      ]
     },
     "metadata": {},
     "output_type": "display_data"
    },
    {
     "name": "stdout",
     "output_type": "stream",
     "text": [
      "              ┌───┐            ┌───┐┌─┐\n",
      "qr_0: ────────┤ H ├──────────■─┤ H ├┤M├\n",
      "      ┌───────┴───┴────────┐ │ └───┘└╥┘\n",
      "qr_1: ┤ U(2.2427,1.9911,0) ├─X───────╫─\n",
      "      ├────────────────────┤ │       ║ \n",
      "qr_2: ┤ U(1.8831,2.3503,0) ├─X───────╫─\n",
      "      └────────────────────┘         ║ \n",
      "cr: 3/═══════════════════════════════╩═\n",
      "                                     0 \n"
     ]
    },
    {
     "data": {
      "image/png": "[encoded data removed]",
      "text/plain": [
       "<Figure size 640x480 with 1 Axes>"
      ]
     },
     "metadata": {},
     "output_type": "display_data"
    },
    {
     "name": "stdout",
     "output_type": "stream",
     "text": [
      "Davies-Bouldin Index: 0.6519675657644347\n",
      "Silhouette Score: 0.6484359082614214\n",
      "Execution time:  956.9391977787018\n"
     ]
    }
   ],
   "source": [
    "# Set the number of centers (k), dataset model (\"bc\" in this case), and count1 (used to print Quantum circuit in get_Distance())\n",
    "k = 2\n",
    "model = \"bc\"\n",
    "count1 = 0\n",
    "\n",
    "# Get the data points using the specified model (\"bc\")\n",
    "points = get_data(k, model)\n",
    "\n",
    "# Preprocess (normalize) the data points using Min-Max scaling\n",
    "points = preprocess(points)\n",
    "\n",
    "# Initialize the centroids for the k-means algorithm\n",
    "centroids = initialize_centers(points, k)\n",
    "\n",
    "# Plot the initial data points without centers (label=False)\n",
    "plt.figure()\n",
    "draw_plot(points, centroids, label=False)\n",
    "\n",
    "# Run the k-means algorithm for 2 iterations\n",
    "start_time = time.time()\n",
    "for i in range(100):\n",
    "    # Find the nearest centers for each data point using the current centroids\n",
    "    centers = find_nearest_neighbour(points, centroids, count1)\n",
    "    \n",
    "    # Plot the data points with centers after each iteration\n",
    "    #plt.figure()\n",
    "    #draw_plot(points, centers)\n",
    "    \n",
    "    # Update the centroids based on the mean of the data points belonging to each cluster\n",
    "    centroids = find_centroids(points, centers)\n",
    "    \n",
    "    # Increment the count1 variable\n",
    "    count1 = count1 + 1\n",
    "\n",
    "end_time = time.time()\n",
    "draw_plot(points, centers)\n",
    "\n",
    "# Calculate the Davies-Bouldin Index to evaluate the clustering quality\n",
    "db_index = davies_bouldin_score(points, centers)\n",
    "print('Davies-Bouldin Index:', db_index)\n",
    "\n",
    "# Calculate the Silhouette Score to evaluate the clustering quality\n",
    "silhouette_score = silhouette_score(points, centers)\n",
    "print('Silhouette Score:', silhouette_score)\n",
    "\n",
    "# Calculate the execution time of the k-means algorithm in minutes\n",
    "exec_time = end_time - start_time\n",
    "print(\"Execution time: \", exec_time)"
   ]
  },
  {
   "cell_type": "code",
   "execution_count": null,
   "id": "1be12161",
   "metadata": {},
   "outputs": [],
   "source": []
  }
 ],
 "metadata": {
  "kernelspec": {
   "display_name": "Python 3 (ipykernel)",
   "language": "python",
   "name": "python3"
  },
  "language_info": {
   "codemirror_mode": {
    "name": "ipython",
    "version": 3
   },
   "file_extension": ".py",
   "mimetype": "text/x-python",
   "name": "python",
   "nbconvert_exporter": "python",
   "pygments_lexer": "ipython3",
   "version": "3.11.4"
  }
 },
 "nbformat": 4,
 "nbformat_minor": 5
}
